{
 "cells": [
  {
   "cell_type": "code",
   "execution_count": 1,
   "metadata": {},
   "outputs": [
    {
     "name": "stderr",
     "output_type": "stream",
     "text": [
      "/home/surfer/anaconda3/envs/TTT/lib/python3.11/site-packages/tqdm/auto.py:21: TqdmWarning: IProgress not found. Please update jupyter and ipywidgets. See https://ipywidgets.readthedocs.io/en/stable/user_install.html\n",
      "  from .autonotebook import tqdm as notebook_tqdm\n"
     ]
    },
    {
     "data": {
      "text/plain": [
       "True"
      ]
     },
     "execution_count": 1,
     "metadata": {},
     "output_type": "execute_result"
    }
   ],
   "source": [
    "from faster_whisper import WhisperModel\n",
    "from transformers import pipeline\n",
    "from langchain.chains import RetrievalQA\n",
    "from langchain_openai import ChatOpenAI\n",
    "from langchain.vectorstores import FAISS\n",
    "from langchain.embeddings import OpenAIEmbeddings\n",
    "from langchain.document_loaders import TextLoader\n",
    "import gradio as gr\n",
    "import sentencepiece\n",
    "import openai\n",
    "from dotenv import load_dotenv\n",
    "import os\n",
    "\n",
    "load_dotenv()"
   ]
  },
  {
   "cell_type": "code",
   "execution_count": 20,
   "metadata": {},
   "outputs": [],
   "source": [
    "# Retrieve the OpenAI API key from the environment variables\n",
    "openai.api_key = os.getenv(\"OPENAI_API_KEY\")\n",
    "\n",
    "# Ensure that the API key is loaded\n",
    "if not openai.api_key:\n",
    "    raise ValueError(\"OpenAI API key is not set in the environment variables.\")"
   ]
  },
  {
   "cell_type": "markdown",
   "metadata": {},
   "source": [
    "## Faster Whisper for Audio ##\n"
   ]
  },
  {
   "cell_type": "code",
   "execution_count": 4,
   "metadata": {},
   "outputs": [],
   "source": [
    "### 1. Faster Whisper for Audio Transcription ###\n",
    "def transcribe_audio(audio_file):\n",
    "    model = WhisperModel(\"small\", device=\"cuda\")  # Use \"cuda\" if you have a GPU\n",
    "    segments, _ = model.transcribe(audio_file, language=\"es\")\n",
    "    transcription = \" \".join([segment.text for segment in segments])\n",
    "    return transcription"
   ]
  },
  {
   "cell_type": "markdown",
   "metadata": {},
   "source": [
    "## 2. Translation Pipelines ###"
   ]
  },
  {
   "cell_type": "code",
   "execution_count": 5,
   "metadata": {},
   "outputs": [
    {
     "name": "stderr",
     "output_type": "stream",
     "text": [
      "Device set to use cuda:0\n",
      "Device set to use cuda:0\n"
     ]
    }
   ],
   "source": [
    "\n",
    "# 2. Translation Pipelines\n",
    "translator_es_en = pipeline(\"translation\", model=\"Helsinki-NLP/opus-mt-es-en\", device=0)\n",
    "translator_en_es = pipeline(\"translation\", model=\"Helsinki-NLP/opus-mt-en-es\", device=0)\n"
   ]
  },
  {
   "cell_type": "code",
   "execution_count": 6,
   "metadata": {},
   "outputs": [],
   "source": [
    "# translate from spanish to english\n",
    "def translate_to_english(text):\n",
    "    translated = translator_es_en(text, max_length=512)\n",
    "    return translated[0]['translation_text']\n",
    "\n",
    "# Translate from english to spanish\n",
    "def translate_to_spanish(text):\n",
    "    translated = translator_en_es(text, max_length=512)\n",
    "    return translated[0]['translation_text']\n"
   ]
  },
  {
   "cell_type": "markdown",
   "metadata": {},
   "source": [
    "## 3. RAG Setup (Using LangChain and FAISS)\n"
   ]
  },
  {
   "cell_type": "code",
   "execution_count": null,
   "metadata": {},
   "outputs": [],
   "source": [
    "# Create the vector store and embedding.\n",
    "def create_vector_db(resume_file):\n",
    "    loader = TextLoader(resume_file)\n",
    "    documents = loader.load()\n",
    "    embeddings = OpenAIEmbeddings()\n",
    "    vectorstore = FAISS.from_documents(documents, embeddings)\n",
    "    return vectorstore\n",
    "\n",
    "# Generate the response wtih gpt-4o-mini\n",
    "def generate_response(question, vectorstore):\n",
    "    llm = ChatOpenAI(model = \"gpt-4o-mini\", temperature=0.7)\n",
    "    qa_chain = RetrievalQA.from_chain_type(llm=llm, retriever=vectorstore.as_retriever())\n",
    "    return qa_chain.inoke(question)\n",
    "\n",
    "# Load the RAG Knowledge Base\n",
    "vectorstore = create_vector_db(\"Resume.txt\")\n"
   ]
  },
  {
   "cell_type": "markdown",
   "metadata": {},
   "source": [
    "## 4. Complete Pipeline"
   ]
  },
  {
   "cell_type": "code",
   "execution_count": null,
   "metadata": {},
   "outputs": [],
   "source": [
    "def process_pipeline(audio_file):\n",
    "    # Step 1: Transcribe audio (Spanish)\n",
    "    spanish_text = transcribe_audio(audio_file)\n",
    "    \n",
    "    # Step 2: Translate Spanish transcription to English\n",
    "    english_query = translate_to_english(spanish_text)\n",
    "    \n",
    "    # Step 3: Query the RAG system in English\n",
    "    english_response = generate_response(english_query, vectorstore)\n",
    "    \n",
    "    # Step 4: Translate the English response back to Spanish\n",
    "    spanish_response = translate_to_spanish(english_response)\n",
    "    \n",
    "    return spanish_text[0], spanish_response[0]\n"
   ]
  },
  {
   "cell_type": "markdown",
   "metadata": {},
   "source": [
    "# 5. Gradio Frontend"
   ]
  },
  {
   "cell_type": "code",
   "execution_count": 47,
   "metadata": {},
   "outputs": [
    {
     "name": "stdout",
     "output_type": "stream",
     "text": [
      "* Running on local URL:  http://127.0.0.1:7863\n",
      "\n",
      "To create a public link, set `share=True` in `launch()`.\n"
     ]
    },
    {
     "data": {
      "text/html": [
       "<div><iframe src=\"http://127.0.0.1:7863/\" width=\"100%\" height=\"500\" allow=\"autoplay; camera; microphone; clipboard-read; clipboard-write;\" frameborder=\"0\" allowfullscreen></iframe></div>"
      ],
      "text/plain": [
       "<IPython.core.display.HTML object>"
      ]
     },
     "metadata": {},
     "output_type": "display_data"
    },
    {
     "name": "stderr",
     "output_type": "stream",
     "text": [
      "Traceback (most recent call last):\n",
      "  File \"/home/surfer/anaconda3/envs/TTT/lib/python3.11/site-packages/gradio/queueing.py\", line 624, in process_events\n",
      "    response = await route_utils.call_process_api(\n",
      "               ^^^^^^^^^^^^^^^^^^^^^^^^^^^^^^^^^^^\n",
      "  File \"/home/surfer/anaconda3/envs/TTT/lib/python3.11/site-packages/gradio/route_utils.py\", line 323, in call_process_api\n",
      "    output = await app.get_blocks().process_api(\n",
      "             ^^^^^^^^^^^^^^^^^^^^^^^^^^^^^^^^^^^\n",
      "  File \"/home/surfer/anaconda3/envs/TTT/lib/python3.11/site-packages/gradio/blocks.py\", line 2043, in process_api\n",
      "    result = await self.call_function(\n",
      "             ^^^^^^^^^^^^^^^^^^^^^^^^^\n",
      "  File \"/home/surfer/anaconda3/envs/TTT/lib/python3.11/site-packages/gradio/blocks.py\", line 1590, in call_function\n",
      "    prediction = await anyio.to_thread.run_sync(  # type: ignore\n",
      "                 ^^^^^^^^^^^^^^^^^^^^^^^^^^^^^^^^^^^^^^^^^^^^^^^\n",
      "  File \"/home/surfer/anaconda3/envs/TTT/lib/python3.11/site-packages/anyio/to_thread.py\", line 56, in run_sync\n",
      "    return await get_async_backend().run_sync_in_worker_thread(\n",
      "           ^^^^^^^^^^^^^^^^^^^^^^^^^^^^^^^^^^^^^^^^^^^^^^^^^^^^\n",
      "  File \"/home/surfer/anaconda3/envs/TTT/lib/python3.11/site-packages/anyio/_backends/_asyncio.py\", line 2505, in run_sync_in_worker_thread\n",
      "    return await future\n",
      "           ^^^^^^^^^^^^\n",
      "  File \"/home/surfer/anaconda3/envs/TTT/lib/python3.11/site-packages/anyio/_backends/_asyncio.py\", line 1005, in run\n",
      "    result = context.run(func, *args)\n",
      "             ^^^^^^^^^^^^^^^^^^^^^^^^\n",
      "  File \"/home/surfer/anaconda3/envs/TTT/lib/python3.11/site-packages/gradio/utils.py\", line 865, in wrapper\n",
      "    response = f(*args, **kwargs)\n",
      "               ^^^^^^^^^^^^^^^^^^\n",
      "  File \"/tmp/ipykernel_36085/3250840497.py\", line 3, in process_pipeline\n",
      "    spanish_text = transcribe_audio(audio_file)\n",
      "                   ^^^^^^^^^^^^^^^^^^^^^^^^^^^^\n",
      "  File \"/tmp/ipykernel_36085/862294097.py\", line 4, in transcribe_audio\n",
      "    segments, _ = model.transcribe(audio_file, language=\"es\")\n",
      "                  ^^^^^^^^^^^^^^^^^^^^^^^^^^^^^^^^^^^^^^^^^^^\n",
      "  File \"/home/surfer/anaconda3/envs/TTT/lib/python3.11/site-packages/faster_whisper/transcribe.py\", line 821, in transcribe\n",
      "    audio = decode_audio(audio, sampling_rate=sampling_rate)\n",
      "            ^^^^^^^^^^^^^^^^^^^^^^^^^^^^^^^^^^^^^^^^^^^^^^^^\n",
      "  File \"/home/surfer/anaconda3/envs/TTT/lib/python3.11/site-packages/faster_whisper/audio.py\", line 46, in decode_audio\n",
      "    with av.open(input_file, mode=\"r\", metadata_errors=\"ignore\") as container:\n",
      "         ^^^^^^^^^^^^^^^^^^^^^^^^^^^^^^^^^^^^^^^^^^^^^^^^^^^^^^^\n",
      "  File \"av/container/core.pyx\", line 369, in av.container.core.open\n",
      "  File \"av/container/core.pyx\", line 217, in av.container.core.Container.__cinit__\n",
      "  File \"av/container/pyio.pyx\", line 41, in av.container.pyio.PyIOFile.__cinit__\n",
      "ValueError: File object has no read() method, or readable() returned False.\n"
     ]
    }
   ],
   "source": [
    "interface = gr.interface = gr.Interface(\n",
    "    fn=process_pipeline,\n",
    "    inputs=gr.Audio(sources=[\"microphone\"], type=\"filepath\"),\n",
    "    outputs=[\"text\", \"text\"],\n",
    "    title=\"Spanish Q&A System\",\n",
    "    description=\"Ask questions in Spanish via audio, and the system will respond based on your resume.\",\n",
    "    )\n",
    "\n",
    "\n",
    "# Launch the app\n",
    "if __name__ == \"__main__\":\n",
    "    interface.launch()"
   ]
  },
  {
   "cell_type": "code",
   "execution_count": null,
   "metadata": {},
   "outputs": [],
   "source": []
  }
 ],
 "metadata": {
  "kernelspec": {
   "display_name": "TTT",
   "language": "python",
   "name": "python3"
  },
  "language_info": {
   "codemirror_mode": {
    "name": "ipython",
    "version": 3
   },
   "file_extension": ".py",
   "mimetype": "text/x-python",
   "name": "python",
   "nbconvert_exporter": "python",
   "pygments_lexer": "ipython3",
   "version": "3.11.8"
  }
 },
 "nbformat": 4,
 "nbformat_minor": 2
}
